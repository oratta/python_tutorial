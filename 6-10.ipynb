{
 "cells": [
  {
   "cell_type": "code",
   "execution_count": 20,
   "id": "bf51ea05-35bb-412a-9878-4679385725a8",
   "metadata": {
    "tags": []
   },
   "outputs": [],
   "source": [
    "import fibo_sample"
   ]
  },
  {
   "cell_type": "code",
   "execution_count": 21,
   "id": "58121d52-5d80-4047-934f-8a8410f0855d",
   "metadata": {
    "tags": []
   },
   "outputs": [
    {
     "data": {
      "text/plain": [
       "'fibo_sample'"
      ]
     },
     "execution_count": 21,
     "metadata": {},
     "output_type": "execute_result"
    }
   ],
   "source": [
    "fibo_sample.__name__"
   ]
  },
  {
   "cell_type": "code",
   "execution_count": 23,
   "id": "2b4ecb0a-2564-4fa2-a1a3-3299531396ef",
   "metadata": {
    "tags": []
   },
   "outputs": [
    {
     "name": "stdout",
     "output_type": "stream",
     "text": [
      "0 1 1 2 3 5 8 13 21 34 55 89 144 \n"
     ]
    }
   ],
   "source": [
    "fibo_sample.fib(199)"
   ]
  },
  {
   "cell_type": "code",
   "execution_count": 25,
   "id": "3aa5a792-a4be-47dd-bae5-cdeb0302af00",
   "metadata": {
    "tags": []
   },
   "outputs": [
    {
     "data": {
      "text/plain": [
       "[0, 1, 1, 2, 3, 5, 8, 13, 21, 34, 55, 89, 144, 233, 377]"
      ]
     },
     "execution_count": 25,
     "metadata": {},
     "output_type": "execute_result"
    }
   ],
   "source": [
    "from fibo_sample import fib, fib2\n",
    "fib2(400)"
   ]
  },
  {
   "cell_type": "raw",
   "id": "ea33515f-ec1a-4d5d-9be0-eeffa48cf586",
   "metadata": {},
   "source": [
    "from fib import *"
   ]
  },
  {
   "cell_type": "code",
   "execution_count": 26,
   "id": "4e83d60d-6bdd-4e5e-82b6-3830d536f511",
   "metadata": {
    "tags": []
   },
   "outputs": [],
   "source": [
    "from fibo_sample import *"
   ]
  },
  {
   "cell_type": "code",
   "execution_count": 27,
   "id": "00ab4952-4f64-4403-b390-98aa7badd46f",
   "metadata": {
    "tags": []
   },
   "outputs": [],
   "source": [
    "import fibo"
   ]
  },
  {
   "cell_type": "code",
   "execution_count": 28,
   "id": "1a920ea7-5bd1-4277-942c-914fb9957a3f",
   "metadata": {
    "tags": []
   },
   "outputs": [
    {
     "data": {
      "text/plain": [
       "['__builtins__',\n",
       " '__cached__',\n",
       " '__doc__',\n",
       " '__file__',\n",
       " '__loader__',\n",
       " '__name__',\n",
       " '__package__',\n",
       " '__spec__']"
      ]
     },
     "execution_count": 28,
     "metadata": {},
     "output_type": "execute_result"
    }
   ],
   "source": [
    "dir(fibo)"
   ]
  },
  {
   "cell_type": "code",
   "execution_count": 29,
   "id": "48ea632c-f43c-43fa-8845-145d2e8c9811",
   "metadata": {
    "tags": []
   },
   "outputs": [
    {
     "data": {
      "text/plain": [
       "['__builtins__',\n",
       " '__cached__',\n",
       " '__doc__',\n",
       " '__file__',\n",
       " '__loader__',\n",
       " '__name__',\n",
       " '__package__',\n",
       " '__spec__',\n",
       " 'fib',\n",
       " 'fib2']"
      ]
     },
     "execution_count": 29,
     "metadata": {},
     "output_type": "execute_result"
    }
   ],
   "source": [
    "dir(fibo_sample)"
   ]
  },
  {
   "cell_type": "code",
   "execution_count": 30,
   "id": "e785d613-7fbf-4f78-8669-fcb4ce57f182",
   "metadata": {
    "tags": []
   },
   "outputs": [
    {
     "data": {
      "text/plain": [
       "['In',\n",
       " 'Out',\n",
       " '_',\n",
       " '_13',\n",
       " '_18',\n",
       " '_21',\n",
       " '_25',\n",
       " '_28',\n",
       " '_29',\n",
       " '__',\n",
       " '___',\n",
       " '__builtin__',\n",
       " '__builtins__',\n",
       " '__doc__',\n",
       " '__loader__',\n",
       " '__name__',\n",
       " '__package__',\n",
       " '__spec__',\n",
       " '_dh',\n",
       " '_i',\n",
       " '_i1',\n",
       " '_i10',\n",
       " '_i11',\n",
       " '_i12',\n",
       " '_i13',\n",
       " '_i14',\n",
       " '_i15',\n",
       " '_i16',\n",
       " '_i17',\n",
       " '_i18',\n",
       " '_i19',\n",
       " '_i2',\n",
       " '_i20',\n",
       " '_i21',\n",
       " '_i22',\n",
       " '_i23',\n",
       " '_i24',\n",
       " '_i25',\n",
       " '_i26',\n",
       " '_i27',\n",
       " '_i28',\n",
       " '_i29',\n",
       " '_i3',\n",
       " '_i30',\n",
       " '_i4',\n",
       " '_i5',\n",
       " '_i6',\n",
       " '_i7',\n",
       " '_i8',\n",
       " '_i9',\n",
       " '_ih',\n",
       " '_ii',\n",
       " '_iii',\n",
       " '_oh',\n",
       " 'exit',\n",
       " 'fib',\n",
       " 'fib2',\n",
       " 'fibo',\n",
       " 'fibo_sample',\n",
       " 'get_ipython',\n",
       " 'open',\n",
       " 'quit']"
      ]
     },
     "execution_count": 30,
     "metadata": {},
     "output_type": "execute_result"
    }
   ],
   "source": [
    "dir()"
   ]
  },
  {
   "cell_type": "code",
   "execution_count": 33,
   "id": "3d4bdd05-86f9-4420-9288-31e0354f67b8",
   "metadata": {
    "tags": []
   },
   "outputs": [],
   "source": [
    "## WIP 7.1"
   ]
  },
  {
   "cell_type": "code",
   "execution_count": 35,
   "id": "289fd854-eff5-4d6c-bf12-a1e2a3ca916c",
   "metadata": {
    "tags": []
   },
   "outputs": [
    {
     "name": "stdin",
     "output_type": "stream",
     "text": [
      "please enter a number:  9\n"
     ]
    },
    {
     "name": "stdout",
     "output_type": "stream",
     "text": [
      "x= 9\n"
     ]
    }
   ],
   "source": [
    "while True:\n",
    "    try:\n",
    "        x = int(input(\"please enter a number: \"))\n",
    "        print(\"x=\",x)\n",
    "        break\n",
    "    except ValueError:\n",
    "        print(\"Oops! That was no valid number. Try agein...\")"
   ]
  },
  {
   "cell_type": "code",
   "execution_count": 36,
   "id": "ad448356-47b4-455b-bc6a-85cd2591a956",
   "metadata": {
    "tags": []
   },
   "outputs": [
    {
     "ename": "TypeError",
     "evalue": "bad type",
     "output_type": "error",
     "traceback": [
      "\u001b[0;31m---------------------------------------------------------------------------\u001b[0m",
      "\u001b[0;31mTypeError\u001b[0m                                 Traceback (most recent call last)",
      "Cell \u001b[0;32mIn[36], line 2\u001b[0m\n\u001b[1;32m      1\u001b[0m \u001b[38;5;28;01mtry\u001b[39;00m:\n\u001b[0;32m----> 2\u001b[0m     \u001b[38;5;28;01mraise\u001b[39;00m \u001b[38;5;167;01mTypeError\u001b[39;00m(\u001b[38;5;124m\"\u001b[39m\u001b[38;5;124mbad type\u001b[39m\u001b[38;5;124m\"\u001b[39m)\n\u001b[1;32m      3\u001b[0m \u001b[38;5;28;01mexcept\u001b[39;00m \u001b[38;5;167;01mException\u001b[39;00m \u001b[38;5;28;01mas\u001b[39;00m e:\n\u001b[1;32m      4\u001b[0m     e\u001b[38;5;241m.\u001b[39madd_note(\u001b[38;5;124m\"\u001b[39m\u001b[38;5;124madd some information\u001b[39m\u001b[38;5;124m\"\u001b[39m)\n",
      "\u001b[0;31mTypeError\u001b[0m: bad type"
     ]
    }
   ],
   "source": [
    "try:\n",
    "    raise TypeError(\"bad type\")\n",
    "except Exception as e:\n",
    "    e.add_note(\"add some information\")\n",
    "    e.add_note(\"add some more information\")\n",
    "    raise"
   ]
  },
  {
   "cell_type": "code",
   "execution_count": 37,
   "id": "5e3fa8e5-f1dc-4325-bd8f-180975dc8058",
   "metadata": {
    "tags": []
   },
   "outputs": [
    {
     "ename": "TypeError",
     "evalue": "bad type",
     "output_type": "error",
     "traceback": [
      "\u001b[0;31m---------------------------------------------------------------------------\u001b[0m",
      "\u001b[0;31mTypeError\u001b[0m                                 Traceback (most recent call last)",
      "Cell \u001b[0;32mIn[37], line 2\u001b[0m\n\u001b[1;32m      1\u001b[0m \u001b[38;5;28;01mtry\u001b[39;00m:\n\u001b[0;32m----> 2\u001b[0m     \u001b[38;5;28;01mraise\u001b[39;00m \u001b[38;5;167;01mTypeError\u001b[39;00m(\u001b[38;5;124m'\u001b[39m\u001b[38;5;124mbad type\u001b[39m\u001b[38;5;124m'\u001b[39m)\n\u001b[1;32m      3\u001b[0m \u001b[38;5;28;01mexcept\u001b[39;00m \u001b[38;5;167;01mException\u001b[39;00m \u001b[38;5;28;01mas\u001b[39;00m e:\n\u001b[1;32m      4\u001b[0m     e\u001b[38;5;241m.\u001b[39madd_note(\u001b[38;5;124m'\u001b[39m\u001b[38;5;124mAdd some information\u001b[39m\u001b[38;5;124m'\u001b[39m)\n",
      "\u001b[0;31mTypeError\u001b[0m: bad type"
     ]
    }
   ],
   "source": [
    "try:\n",
    "    raise TypeError('bad type')\n",
    "except Exception as e:\n",
    "    e.add_note('Add some information')\n",
    "    e.add_note('Add some more information')\n",
    "    raise"
   ]
  },
  {
   "cell_type": "code",
   "execution_count": 38,
   "id": "58a0b5a0-2e5f-4fc4-bade-e9b527f8a092",
   "metadata": {
    "tags": []
   },
   "outputs": [],
   "source": [
    "try:\n",
    "    raise TypeError('bad type')\n",
    "except Exception as e:\n",
    "    e.add_note('Add some information')\n",
    "    e.add_note('Add some more information')"
   ]
  },
  {
   "cell_type": "code",
   "execution_count": 39,
   "id": "54eb2655-c3b6-4576-82d9-2ccb54a9fc3c",
   "metadata": {
    "tags": []
   },
   "outputs": [
    {
     "ename": "ExceptionGroup",
     "evalue": "We have some problems (3 sub-exceptions)",
     "output_type": "error",
     "traceback": [
      "\u001b[0;31m---------------------------------------------------------------------------\u001b[0m",
      "\u001b[0;31mExceptionGroup\u001b[0m                            Traceback (most recent call last)",
      "Cell \u001b[0;32mIn[39], line 12\u001b[0m\n\u001b[1;32m      9\u001b[0m         e\u001b[38;5;241m.\u001b[39madd_note(\u001b[38;5;124mf\u001b[39m\u001b[38;5;124m'\u001b[39m\u001b[38;5;124mHappened in Iteration \u001b[39m\u001b[38;5;132;01m{\u001b[39;00mi\u001b[38;5;241m+\u001b[39m\u001b[38;5;241m1\u001b[39m\u001b[38;5;132;01m}\u001b[39;00m\u001b[38;5;124m'\u001b[39m)\n\u001b[1;32m     10\u001b[0m         excs\u001b[38;5;241m.\u001b[39mappend(e)\n\u001b[0;32m---> 12\u001b[0m \u001b[38;5;28;01mraise\u001b[39;00m ExceptionGroup(\u001b[38;5;124m'\u001b[39m\u001b[38;5;124mWe have some problems\u001b[39m\u001b[38;5;124m'\u001b[39m, excs)\n",
      "\u001b[0;31mExceptionGroup\u001b[0m: We have some problems (3 sub-exceptions)"
     ]
    }
   ],
   "source": [
    "def f():\n",
    "    raise OSError('operation failed')\n",
    "\n",
    "excs = []\n",
    "for i in range(3):\n",
    "    try:\n",
    "        f()\n",
    "    except Exception as e:\n",
    "        e.add_note(f'Happened in Iteration {i+1}')\n",
    "        excs.append(e)\n",
    "\n",
    "raise ExceptionGroup('We have some problems', excs)"
   ]
  },
  {
   "cell_type": "code",
   "execution_count": 41,
   "id": "c185b2df-f07c-44c2-a893-66eb1cd59252",
   "metadata": {
    "tags": []
   },
   "outputs": [
    {
     "name": "stdout",
     "output_type": "stream",
     "text": [
      "After local assignment: test spam\n",
      "After nonlocal assignment: nonlocal spam\n",
      "After global assignment: nonlocal spam\n",
      "In global scope: global spam\n"
     ]
    }
   ],
   "source": [
    "#9.2.1\n",
    "def scope_test():\n",
    "    def do_local():\n",
    "        spam = \"local spam\"\n",
    "        \n",
    "    def do_nonlocal():\n",
    "        nonlocal spam\n",
    "        spam = \"nonlocal spam\"\n",
    "    \n",
    "    def do_global():\n",
    "        global spam\n",
    "        spam = \"global spam\"\n",
    "    \n",
    "    spam = \"test spam\"\n",
    "    do_local()\n",
    "    print(\"After local assignment:\", spam)\n",
    "    do_nonlocal()\n",
    "    print(\"After nonlocal assignment:\", spam)\n",
    "    do_global()\n",
    "    print(\"After global assignment:\", spam)\n",
    "\n",
    "scope_test()\n",
    "print(\"In global scope:\", spam)"
   ]
  },
  {
   "cell_type": "code",
   "execution_count": 1,
   "id": "c8001bca-2a64-4930-8fc6-48b5e6c4333a",
   "metadata": {
    "tags": []
   },
   "outputs": [],
   "source": [
    "#9.8"
   ]
  }
 ],
 "metadata": {
  "kernelspec": {
   "display_name": "Python 3 (ipykernel)",
   "language": "python",
   "name": "python3"
  },
  "language_info": {
   "codemirror_mode": {
    "name": "ipython",
    "version": 3
   },
   "file_extension": ".py",
   "mimetype": "text/x-python",
   "name": "python",
   "nbconvert_exporter": "python",
   "pygments_lexer": "ipython3",
   "version": "3.11.3"
  }
 },
 "nbformat": 4,
 "nbformat_minor": 5
}

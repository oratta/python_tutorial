{
 "cells": [
  {
   "cell_type": "code",
   "execution_count": 1,
   "id": "eb014f5d-5391-4275-acdf-e6e49f31cc35",
   "metadata": {
    "tags": []
   },
   "outputs": [
    {
     "data": {
      "text/plain": [
       "'spam eggs'"
      ]
     },
     "execution_count": 1,
     "metadata": {},
     "output_type": "execute_result"
    }
   ],
   "source": [
    "\"spam eggs\""
   ]
  },
  {
   "cell_type": "code",
   "execution_count": 3,
   "id": "7533fda5-13d8-46db-9e67-2e4fd2df1f43",
   "metadata": {
    "tags": []
   },
   "outputs": [
    {
     "data": {
      "text/plain": [
       "\"doesn't\""
      ]
     },
     "execution_count": 3,
     "metadata": {},
     "output_type": "execute_result"
    }
   ],
   "source": [
    "\"doesn\\'t\""
   ]
  },
  {
   "cell_type": "code",
   "execution_count": 5,
   "id": "0a38d3ae-731c-4af5-8cb8-12a51a5236f5",
   "metadata": {
    "tags": []
   },
   "outputs": [
    {
     "name": "stdout",
     "output_type": "stream",
     "text": [
      "First line. \n",
      "Second line.\n"
     ]
    }
   ],
   "source": [
    "s = 'First line. \\nSecond line.'\n",
    "print(s)"
   ]
  },
  {
   "cell_type": "code",
   "execution_count": 6,
   "id": "d3665092-0b08-411c-b95f-9d262d6c373b",
   "metadata": {
    "tags": []
   },
   "outputs": [
    {
     "name": "stdout",
     "output_type": "stream",
     "text": [
      "C:\\some\n",
      "ame\n"
     ]
    }
   ],
   "source": [
    "print('C:\\some\\name')"
   ]
  },
  {
   "cell_type": "code",
   "execution_count": 7,
   "id": "056e22d1-c9fc-4c05-be7e-575165adb2fc",
   "metadata": {
    "tags": []
   },
   "outputs": [
    {
     "name": "stdout",
     "output_type": "stream",
     "text": [
      "C:\\some\\name\n"
     ]
    }
   ],
   "source": [
    "print(r'C:\\some\\name')"
   ]
  },
  {
   "cell_type": "code",
   "execution_count": 8,
   "id": "cef9284d-a1a6-4f6f-92d2-dbedce7abc0c",
   "metadata": {
    "tags": []
   },
   "outputs": [
    {
     "name": "stdout",
     "output_type": "stream",
     "text": [
      "Usage: thingy;lj;kl\n",
      "-a;dkfjadjl\n",
      "llkjald;fkja-\n",
      "\n"
     ]
    }
   ],
   "source": [
    "print(\"\"\"\\\n",
    "Usage: thingy;lj;kl\n",
    "-a;dkfjadjl\n",
    "llkjald;fkja-\n",
    "\"\"\")"
   ]
  },
  {
   "cell_type": "markdown",
   "id": "6d0777a6-e00f-46c1-9157-46ea512f3653",
   "metadata": {
    "jp-MarkdownHeadingCollapsed": true,
    "tags": []
   },
   "source": [
    "3 * 'un' + 'ium"
   ]
  },
  {
   "cell_type": "code",
   "execution_count": 10,
   "id": "fa641c6c-d08e-4ffe-a47d-c55b1094e249",
   "metadata": {
    "tags": []
   },
   "outputs": [
    {
     "data": {
      "text/plain": [
       "'unununium'"
      ]
     },
     "execution_count": 10,
     "metadata": {},
     "output_type": "execute_result"
    }
   ],
   "source": [
    "3 * 'un' + \"ium\""
   ]
  },
  {
   "cell_type": "code",
   "execution_count": 11,
   "id": "a1b58440-38c3-48f2-99db-3a04b48c0b10",
   "metadata": {
    "tags": []
   },
   "outputs": [
    {
     "data": {
      "text/plain": [
       "'python'"
      ]
     },
     "execution_count": 11,
     "metadata": {},
     "output_type": "execute_result"
    }
   ],
   "source": [
    "\"py\" \"thon\""
   ]
  },
  {
   "cell_type": "code",
   "execution_count": 12,
   "id": "a2ea93d8-7991-4e74-b14b-643c0cd5f8ce",
   "metadata": {
    "tags": []
   },
   "outputs": [
    {
     "data": {
      "text/plain": [
       "'python'"
      ]
     },
     "execution_count": 12,
     "metadata": {},
     "output_type": "execute_result"
    }
   ],
   "source": [
    "\"py\"+\"thon\""
   ]
  },
  {
   "cell_type": "code",
   "execution_count": 14,
   "id": "89f30d49-db04-4c8b-ac53-ed8db2a228f4",
   "metadata": {
    "tags": []
   },
   "outputs": [],
   "source": [
    "squares = [1,4,65,55,7,2]"
   ]
  },
  {
   "cell_type": "code",
   "execution_count": 15,
   "id": "ceab5a0b-ce6d-4158-bd51-d992a0f80ab0",
   "metadata": {
    "tags": []
   },
   "outputs": [
    {
     "data": {
      "text/plain": [
       "[1, 4, 65, 55, 7, 2]"
      ]
     },
     "execution_count": 15,
     "metadata": {},
     "output_type": "execute_result"
    }
   ],
   "source": [
    "squares"
   ]
  },
  {
   "cell_type": "code",
   "execution_count": 21,
   "id": "adc7be44-8d82-4b67-9089-de58d267b719",
   "metadata": {
    "tags": []
   },
   "outputs": [],
   "source": [
    "squares.append(\"32\")"
   ]
  },
  {
   "cell_type": "code",
   "execution_count": 17,
   "id": "264ae72e-5228-4984-b57e-8ed54dc3c956",
   "metadata": {
    "tags": []
   },
   "outputs": [
    {
     "data": {
      "text/plain": [
       "[1, 4, 65, 55, 7, 2, '32']"
      ]
     },
     "execution_count": 17,
     "metadata": {},
     "output_type": "execute_result"
    }
   ],
   "source": [
    "squares"
   ]
  },
  {
   "cell_type": "code",
   "execution_count": 23,
   "id": "a1da3f5c-477e-4fca-a8b5-b2b0c791ed4c",
   "metadata": {
    "tags": []
   },
   "outputs": [
    {
     "data": {
      "text/plain": [
       "[['a', 'b', 'c'], [1, 2, 3]]"
      ]
     },
     "execution_count": 23,
     "metadata": {},
     "output_type": "execute_result"
    }
   ],
   "source": [
    "a = ['a', 'b', 'c']\n",
    "n = [1,2,3]\n",
    "x = [a,n]\n",
    "x"
   ]
  },
  {
   "cell_type": "code",
   "execution_count": 25,
   "id": "bc6d077c-4a9c-4bd6-aba2-e0b6c8f4d8ff",
   "metadata": {
    "tags": []
   },
   "outputs": [
    {
     "name": "stdout",
     "output_type": "stream",
     "text": [
      "0,1,1,2,3,5,8,"
     ]
    }
   ],
   "source": [
    "a,b = 0,1\n",
    "while a < 10:\n",
    "    print(a, end=',')\n",
    "    a,b = b, a+b"
   ]
  },
  {
   "cell_type": "code",
   "execution_count": 33,
   "id": "24c4ba24-8256-48c9-9900-7f3ff9296435",
   "metadata": {
    "tags": []
   },
   "outputs": [
    {
     "name": "stdout",
     "output_type": "stream",
     "text": [
      "{'takashi': 'active', 'hitoshi': 'inactive', '拓哉': 'active'}\n",
      "{'takashi': 'active', '拓哉': 'active'}\n",
      "{'takashi': 'active', '拓哉': 'active'}\n",
      "{'takashi': 'active'}\n"
     ]
    }
   ],
   "source": [
    "users = {\"takashi\": \"active\", \"hitoshi\": \"inactive\", \"拓哉\": \"active\"}\n",
    "print(users)\n",
    "for user, status in users.copy().items():\n",
    "    if status == \"inactive\":\n",
    "        del users[user]\n",
    "print(users)\n",
    "\n",
    "active_users = {}\n",
    "for user, status in users.items():\n",
    "    if status == \"active\":\n",
    "        active_users[user] = status\n",
    "print(active_users)\n",
    "del active_users[\"拓哉\"]\n",
    "print(active_users)"
   ]
  }
 ],
 "metadata": {
  "kernelspec": {
   "display_name": "Python 3 (ipykernel)",
   "language": "python",
   "name": "python3"
  },
  "language_info": {
   "codemirror_mode": {
    "name": "ipython",
    "version": 3
   },
   "file_extension": ".py",
   "mimetype": "text/x-python",
   "name": "python",
   "nbconvert_exporter": "python",
   "pygments_lexer": "ipython3",
   "version": "3.11.3"
  }
 },
 "nbformat": 4,
 "nbformat_minor": 5
}

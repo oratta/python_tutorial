{
 "cells": [
  {
   "cell_type": "code",
   "execution_count": 1,
   "id": "eb014f5d-5391-4275-acdf-e6e49f31cc35",
   "metadata": {
    "tags": []
   },
   "outputs": [
    {
     "data": {
      "text/plain": [
       "'spam eggs'"
      ]
     },
     "execution_count": 1,
     "metadata": {},
     "output_type": "execute_result"
    }
   ],
   "source": [
    "\"spam eggs\""
   ]
  },
  {
   "cell_type": "code",
   "execution_count": 3,
   "id": "7533fda5-13d8-46db-9e67-2e4fd2df1f43",
   "metadata": {
    "tags": []
   },
   "outputs": [
    {
     "data": {
      "text/plain": [
       "\"doesn't\""
      ]
     },
     "execution_count": 3,
     "metadata": {},
     "output_type": "execute_result"
    }
   ],
   "source": [
    "\"doesn\\'t\""
   ]
  },
  {
   "cell_type": "code",
   "execution_count": 5,
   "id": "0a38d3ae-731c-4af5-8cb8-12a51a5236f5",
   "metadata": {
    "tags": []
   },
   "outputs": [
    {
     "name": "stdout",
     "output_type": "stream",
     "text": [
      "First line. \n",
      "Second line.\n"
     ]
    }
   ],
   "source": [
    "s = 'First line. \\nSecond line.'\n",
    "print(s)"
   ]
  },
  {
   "cell_type": "code",
   "execution_count": 6,
   "id": "d3665092-0b08-411c-b95f-9d262d6c373b",
   "metadata": {
    "tags": []
   },
   "outputs": [
    {
     "name": "stdout",
     "output_type": "stream",
     "text": [
      "C:\\some\n",
      "ame\n"
     ]
    }
   ],
   "source": [
    "print('C:\\some\\name')"
   ]
  },
  {
   "cell_type": "code",
   "execution_count": 7,
   "id": "056e22d1-c9fc-4c05-be7e-575165adb2fc",
   "metadata": {
    "tags": []
   },
   "outputs": [
    {
     "name": "stdout",
     "output_type": "stream",
     "text": [
      "C:\\some\\name\n"
     ]
    }
   ],
   "source": [
    "print(r'C:\\some\\name')"
   ]
  },
  {
   "cell_type": "code",
   "execution_count": 8,
   "id": "cef9284d-a1a6-4f6f-92d2-dbedce7abc0c",
   "metadata": {
    "tags": []
   },
   "outputs": [
    {
     "name": "stdout",
     "output_type": "stream",
     "text": [
      "Usage: thingy;lj;kl\n",
      "-a;dkfjadjl\n",
      "llkjald;fkja-\n",
      "\n"
     ]
    }
   ],
   "source": [
    "print(\"\"\"\\\n",
    "Usage: thingy;lj;kl\n",
    "-a;dkfjadjl\n",
    "llkjald;fkja-\n",
    "\"\"\")"
   ]
  },
  {
   "cell_type": "markdown",
   "id": "6d0777a6-e00f-46c1-9157-46ea512f3653",
   "metadata": {
    "jp-MarkdownHeadingCollapsed": true,
    "tags": []
   },
   "source": [
    "3 * 'un' + 'ium"
   ]
  },
  {
   "cell_type": "code",
   "execution_count": 10,
   "id": "fa641c6c-d08e-4ffe-a47d-c55b1094e249",
   "metadata": {
    "tags": []
   },
   "outputs": [
    {
     "data": {
      "text/plain": [
       "'unununium'"
      ]
     },
     "execution_count": 10,
     "metadata": {},
     "output_type": "execute_result"
    }
   ],
   "source": [
    "3 * 'un' + \"ium\""
   ]
  },
  {
   "cell_type": "code",
   "execution_count": 11,
   "id": "a1b58440-38c3-48f2-99db-3a04b48c0b10",
   "metadata": {
    "tags": []
   },
   "outputs": [
    {
     "data": {
      "text/plain": [
       "'python'"
      ]
     },
     "execution_count": 11,
     "metadata": {},
     "output_type": "execute_result"
    }
   ],
   "source": [
    "\"py\" \"thon\""
   ]
  },
  {
   "cell_type": "code",
   "execution_count": 12,
   "id": "a2ea93d8-7991-4e74-b14b-643c0cd5f8ce",
   "metadata": {
    "tags": []
   },
   "outputs": [
    {
     "data": {
      "text/plain": [
       "'python'"
      ]
     },
     "execution_count": 12,
     "metadata": {},
     "output_type": "execute_result"
    }
   ],
   "source": [
    "\"py\"+\"thon\""
   ]
  },
  {
   "cell_type": "code",
   "execution_count": 14,
   "id": "89f30d49-db04-4c8b-ac53-ed8db2a228f4",
   "metadata": {
    "tags": []
   },
   "outputs": [],
   "source": [
    "squares = [1,4,65,55,7,2]"
   ]
  },
  {
   "cell_type": "code",
   "execution_count": 15,
   "id": "ceab5a0b-ce6d-4158-bd51-d992a0f80ab0",
   "metadata": {
    "tags": []
   },
   "outputs": [
    {
     "data": {
      "text/plain": [
       "[1, 4, 65, 55, 7, 2]"
      ]
     },
     "execution_count": 15,
     "metadata": {},
     "output_type": "execute_result"
    }
   ],
   "source": [
    "squares"
   ]
  },
  {
   "cell_type": "code",
   "execution_count": 21,
   "id": "adc7be44-8d82-4b67-9089-de58d267b719",
   "metadata": {
    "tags": []
   },
   "outputs": [],
   "source": [
    "squares.append(\"32\")"
   ]
  },
  {
   "cell_type": "code",
   "execution_count": 17,
   "id": "264ae72e-5228-4984-b57e-8ed54dc3c956",
   "metadata": {
    "tags": []
   },
   "outputs": [
    {
     "data": {
      "text/plain": [
       "[1, 4, 65, 55, 7, 2, '32']"
      ]
     },
     "execution_count": 17,
     "metadata": {},
     "output_type": "execute_result"
    }
   ],
   "source": [
    "squares"
   ]
  },
  {
   "cell_type": "code",
   "execution_count": 23,
   "id": "a1da3f5c-477e-4fca-a8b5-b2b0c791ed4c",
   "metadata": {
    "tags": []
   },
   "outputs": [
    {
     "data": {
      "text/plain": [
       "[['a', 'b', 'c'], [1, 2, 3]]"
      ]
     },
     "execution_count": 23,
     "metadata": {},
     "output_type": "execute_result"
    }
   ],
   "source": [
    "a = ['a', 'b', 'c']\n",
    "n = [1,2,3]\n",
    "x = [a,n]\n",
    "x"
   ]
  },
  {
   "cell_type": "code",
   "execution_count": 25,
   "id": "bc6d077c-4a9c-4bd6-aba2-e0b6c8f4d8ff",
   "metadata": {
    "tags": []
   },
   "outputs": [
    {
     "name": "stdout",
     "output_type": "stream",
     "text": [
      "0,1,1,2,3,5,8,"
     ]
    }
   ],
   "source": [
    "a,b = 0,1\n",
    "while a < 10:\n",
    "    print(a, end=',')\n",
    "    a,b = b, a+b"
   ]
  },
  {
   "cell_type": "code",
   "execution_count": 33,
   "id": "24c4ba24-8256-48c9-9900-7f3ff9296435",
   "metadata": {
    "tags": []
   },
   "outputs": [
    {
     "name": "stdout",
     "output_type": "stream",
     "text": [
      "{'takashi': 'active', 'hitoshi': 'inactive', '拓哉': 'active'}\n",
      "{'takashi': 'active', '拓哉': 'active'}\n",
      "{'takashi': 'active', '拓哉': 'active'}\n",
      "{'takashi': 'active'}\n"
     ]
    }
   ],
   "source": [
    "users = {\"takashi\": \"active\", \"hitoshi\": \"inactive\", \"拓哉\": \"active\"}\n",
    "print(users)\n",
    "for user, status in users.copy().items():\n",
    "    if status == \"inactive\":\n",
    "        del users[user]\n",
    "print(users)\n",
    "\n",
    "active_users = {}\n",
    "for user, status in users.items():\n",
    "    if status == \"active\":\n",
    "        active_users[user] = status\n",
    "print(active_users)\n",
    "del active_users[\"拓哉\"]\n",
    "print(active_users)"
   ]
  },
  {
   "cell_type": "code",
   "execution_count": 35,
   "id": "f9669444-84e7-4a67-bb0e-b0e3a6392acd",
   "metadata": {
    "tags": []
   },
   "outputs": [
    {
     "name": "stdout",
     "output_type": "stream",
     "text": [
      "0|1|2|3|4|"
     ]
    }
   ],
   "source": [
    "for i in range(5):\n",
    "    print(i,end=\"|\")"
   ]
  },
  {
   "cell_type": "code",
   "execution_count": 39,
   "id": "ac4a50c4-d38c-4ef2-b60b-94766e3e3848",
   "metadata": {
    "tags": []
   },
   "outputs": [
    {
     "data": {
      "text/plain": [
       "[0, 2, 4, 6, 8]"
      ]
     },
     "execution_count": 39,
     "metadata": {},
     "output_type": "execute_result"
    }
   ],
   "source": [
    "list(range(0,10,2))"
   ]
  },
  {
   "cell_type": "code",
   "execution_count": 40,
   "id": "61185ed7-a8e6-4d1c-9291-a629007ef33c",
   "metadata": {
    "tags": []
   },
   "outputs": [
    {
     "name": "stdout",
     "output_type": "stream",
     "text": [
      "0 : aaa\n",
      "1 : bbb\n",
      "2 : c\n",
      "3 : dadafj;l\n",
      "4 : ljl\n"
     ]
    }
   ],
   "source": [
    "a=[\"aaa\", \"bbb\",\"c\",\"dadafj;l\",\"ljl\"]\n",
    "for i in range(len(a)):\n",
    "    print(i, \":\", a[i])"
   ]
  },
  {
   "cell_type": "code",
   "execution_count": 41,
   "id": "35f43319-4337-45b7-b75a-ce2cc936342e",
   "metadata": {
    "tags": []
   },
   "outputs": [
    {
     "data": {
      "text/plain": [
       "range(0, 10)"
      ]
     },
     "execution_count": 41,
     "metadata": {},
     "output_type": "execute_result"
    }
   ],
   "source": [
    "range(10)"
   ]
  },
  {
   "cell_type": "code",
   "execution_count": 42,
   "id": "d97bf56c-9f7b-48dc-8145-49e864827227",
   "metadata": {
    "tags": []
   },
   "outputs": [
    {
     "data": {
      "text/plain": [
       "10"
      ]
     },
     "execution_count": 42,
     "metadata": {},
     "output_type": "execute_result"
    }
   ],
   "source": [
    "sum(range(5))"
   ]
  },
  {
   "cell_type": "code",
   "execution_count": 43,
   "id": "937f3262-ba1e-4685-84a2-68e103f8ceb0",
   "metadata": {
    "tags": []
   },
   "outputs": [
    {
     "name": "stdout",
     "output_type": "stream",
     "text": [
      "2 is a prime number\n",
      "3 is a prime number\n",
      "4 equals 2 * 2\n",
      "5 is a prime number\n",
      "6 equals 2 * 3\n",
      "7 is a prime number\n",
      "8 equals 2 * 4\n",
      "9 equals 3 * 3\n"
     ]
    }
   ],
   "source": [
    "for n in range(2,10):\n",
    "    for x in range(2,n):\n",
    "        if n%x == 0:\n",
    "            print(n, \"equals\", x, \"*\", n//x)\n",
    "            break\n",
    "    else:\n",
    "        print(n,\"is a prime number\")"
   ]
  },
  {
   "cell_type": "code",
   "execution_count": 46,
   "id": "5fbc6d2b-0679-43ff-a628-9487199da55c",
   "metadata": {
    "tags": []
   },
   "outputs": [
    {
     "name": "stdout",
     "output_type": "stream",
     "text": [
      "found an even number 2\n",
      "Found an odd number 3\n",
      "found an even number 4\n",
      "Found an odd number 5\n",
      "found an even number 6\n",
      "Found an odd number 7\n",
      "found an even number 8\n",
      "Found an odd number 9\n"
     ]
    }
   ],
   "source": [
    "for num in range(2,10):\n",
    "    if num % 2 == 0:\n",
    "        print(\"found an even number\", num)\n",
    "        continue\n",
    "    print(\"Found an odd number\", num)"
   ]
  },
  {
   "cell_type": "code",
   "execution_count": 53,
   "id": "8fa40474-55e4-4634-a587-d2e246cec240",
   "metadata": {
    "tags": []
   },
   "outputs": [
    {
     "name": "stdout",
     "output_type": "stream",
     "text": [
      "Origin\n",
      "Y=0\n"
     ]
    }
   ],
   "source": [
    "class Point:\n",
    "    def __init__(self, x, y):\n",
    "        self.x = x\n",
    "        self.y = y\n",
    "\n",
    "point = (0,0)\n",
    "match point:\n",
    "    case (0,0):\n",
    "        print(\"Origin\")\n",
    "    case (0,y):\n",
    "        print(f\"Y={y}\")\n",
    "    case (x,0):\n",
    "        print(f\"X={x}\")\n",
    "    case (x,y):\n",
    "        print(f\"X={x}, Y={y}\")\n",
    "    case _:\n",
    "        raise ValueError(\"not a point\")\n",
    "        \n",
    "match point:\n",
    "    case (0,y):\n",
    "        print(f\"Y={y}\")\n",
    "    case (x,0):\n",
    "        print(f\"X={x}\")\n",
    "    case (x,y):\n",
    "        print(f\"X={x}, Y={y}\")\n",
    "    case (0,0):\n",
    "        print(\"Origin\")\n",
    "    case _:\n",
    "        raise ValueError(\"not a point\")"
   ]
  },
  {
   "cell_type": "code",
   "execution_count": 57,
   "id": "d00171cf-7fdb-48c3-a0ad-107d7796b3d2",
   "metadata": {
    "tags": []
   },
   "outputs": [
    {
     "name": "stdout",
     "output_type": "stream",
     "text": [
      "Origin\n",
      "Y=0\n"
     ]
    }
   ],
   "source": [
    "def where_is(point, is_originless=False):\n",
    "    if is_originless == True:\n",
    "        match point:\n",
    "            case Point(x=0, y=y):\n",
    "                print(f\"Y={y}\")\n",
    "            case Point(x=x, y=0):\n",
    "                print(f\"X={x}\")\n",
    "            case Point():\n",
    "                print(\"Somewhere else\")\n",
    "            case _:\n",
    "                print(\"Not a point\")        \n",
    "    else:\n",
    "        match point:\n",
    "            case Point(x=0, y=0):\n",
    "                print(\"Origin\")\n",
    "            case Point(x=0, y=y):\n",
    "                print(f\"Y={y}\")\n",
    "            case Point(x=x, y=0):\n",
    "                print(f\"X={x}\")\n",
    "            case Point():\n",
    "                print(\"Somewhere else\")\n",
    "            case _:\n",
    "                print(\"Not a point\")\n",
    "            \n",
    "            \n",
    "where_is(Point(0,0))\n",
    "where_is(Point(0,0),True)"
   ]
  },
  {
   "cell_type": "code",
   "execution_count": 65,
   "id": "726a1fef-a84b-47e6-a3d4-e2f17374c465",
   "metadata": {
    "tags": []
   },
   "outputs": [
    {
     "name": "stdout",
     "output_type": "stream",
     "text": [
      "x: 1 ,y: 0\n",
      "x: 10 ,y: 1\n",
      "x: 1 ,y: 0\n",
      "x: 10 ,y: 1\n"
     ]
    }
   ],
   "source": [
    "class Point:\n",
    "    __match_args__ = ('x', 'y')\n",
    "    def __init__(self, x, y):\n",
    "        self.x = x\n",
    "        self.y = y\n",
    "\n",
    "point = Point(1,0)\n",
    "print(\"x:\",point.x,\",y:\",point.y)\n",
    "point = Point(y=1,x=10)\n",
    "print(\"x:\",point.x,\",y:\",point.y)\n",
    "\n",
    "class Point:\n",
    "    def __init__(self, x, y):\n",
    "        self.x = x\n",
    "        self.y = y\n",
    "\n",
    "point = Point(1,0)\n",
    "print(\"x:\",point.x,\",y:\",point.y)\n",
    "point = Point(y=1,x=10)\n",
    "print(\"x:\",point.x,\",y:\",point.y)"
   ]
  },
  {
   "cell_type": "code",
   "execution_count": null,
   "id": "15621d14-ebff-4c8a-895a-739cb4162b4e",
   "metadata": {},
   "outputs": [],
   "source": [
    "### wip next 4.7"
   ]
  },
  {
   "cell_type": "code",
   "execution_count": 67,
   "id": "48d73557-6c77-4e0e-b252-c037774c22a7",
   "metadata": {
    "tags": []
   },
   "outputs": [
    {
     "name": "stdout",
     "output_type": "stream",
     "text": [
      "0 1 1 2 3 5 8 13 21 34 55 89 144 233 377 610 987 1597 \n"
     ]
    }
   ],
   "source": [
    "def fib(n):\n",
    "    a, b = 0, 1\n",
    "    while a < n:\n",
    "        print(a, end=\" \")\n",
    "        a, b = b, a+b\n",
    "    print()\n",
    "    \n",
    "fib(2000)"
   ]
  },
  {
   "cell_type": "code",
   "execution_count": 68,
   "id": "f3b84ded-8702-45b6-9b7c-146a3366bc7f",
   "metadata": {
    "tags": []
   },
   "outputs": [
    {
     "data": {
      "text/plain": [
       "[0, 1, 1, 2, 3, 5, 8, 13, 21, 34, 55, 89, 144]"
      ]
     },
     "execution_count": 68,
     "metadata": {},
     "output_type": "execute_result"
    }
   ],
   "source": [
    "def fib2(n):\n",
    "    \"\"\" Return a list containing the Fibonacci series up to n.\"\"\"\n",
    "    a, b = 0, 1\n",
    "    result = []\n",
    "    while a < n:\n",
    "        result.append(a)\n",
    "        a, b = b, a+b\n",
    "    return result\n",
    "\n",
    "fib2(199)"
   ]
  },
  {
   "cell_type": "code",
   "execution_count": 70,
   "id": "40535eb8-aeb8-4d13-971b-9ebf1fa73283",
   "metadata": {
    "tags": []
   },
   "outputs": [
    {
     "name": "stdout",
     "output_type": "stream",
     "text": [
      "2\n",
      "2\n"
     ]
    }
   ],
   "source": [
    "def standard_arg(arg):\n",
    "    print(arg)\n",
    "\n",
    "standard_arg(2)\n",
    "standard_arg(arg=2)"
   ]
  },
  {
   "cell_type": "code",
   "execution_count": 72,
   "id": "c381d8dd-8e6a-42d0-8a3e-5e3691d1856a",
   "metadata": {
    "tags": []
   },
   "outputs": [
    {
     "name": "stdout",
     "output_type": "stream",
     "text": [
      "10\n",
      "pos_only_arg() got some positional-only arguments passed as keyword arguments: 'arg'\n",
      "<class 'TypeError'>\n"
     ]
    }
   ],
   "source": [
    "def pos_only_arg(arg,/):\n",
    "    print(arg)\n",
    "\n",
    "pos_only_arg(10)\n",
    "\n",
    "try:\n",
    "    pos_only_arg(arg=10)\n",
    "except BaseException as e:\n",
    "    print(e)\n",
    "    print(type(e))"
   ]
  },
  {
   "cell_type": "code",
   "execution_count": 73,
   "id": "05356767-5972-4d22-8556-03d8c4f6f291",
   "metadata": {
    "tags": []
   },
   "outputs": [
    {
     "data": {
      "text/plain": [
       "[3, 4, 5]"
      ]
     },
     "execution_count": 73,
     "metadata": {},
     "output_type": "execute_result"
    }
   ],
   "source": [
    "list(range(3,6))"
   ]
  },
  {
   "cell_type": "code",
   "execution_count": 76,
   "id": "e046750c-98dd-447e-961f-08b42cf0513d",
   "metadata": {
    "tags": []
   },
   "outputs": [
    {
     "data": {
      "text/plain": [
       "[3, 4, 5, 6]"
      ]
     },
     "execution_count": 76,
     "metadata": {},
     "output_type": "execute_result"
    }
   ],
   "source": [
    "args = [3,7]\n",
    "list(range(*args))"
   ]
  },
  {
   "cell_type": "code",
   "execution_count": 77,
   "id": "edffc487-2ccf-44a8-b097-cbd9fd91f723",
   "metadata": {
    "tags": []
   },
   "outputs": [
    {
     "data": {
      "text/plain": [
       "[(4, 'four'), (1, 'one'), (3, 'three'), (2, 'two')]"
      ]
     },
     "execution_count": 77,
     "metadata": {},
     "output_type": "execute_result"
    }
   ],
   "source": [
    "pairs = [(1,'one'), (2,'two'), (3, 'three'), (4, 'four')]\n",
    "pairs.sort(key=lambda pair: pair[1])\n",
    "pairs"
   ]
  }
 ],
 "metadata": {
  "kernelspec": {
   "display_name": "Python 3 (ipykernel)",
   "language": "python",
   "name": "python3"
  },
  "language_info": {
   "codemirror_mode": {
    "name": "ipython",
    "version": 3
   },
   "file_extension": ".py",
   "mimetype": "text/x-python",
   "name": "python",
   "nbconvert_exporter": "python",
   "pygments_lexer": "ipython3",
   "version": "3.11.3"
  }
 },
 "nbformat": 4,
 "nbformat_minor": 5
}
